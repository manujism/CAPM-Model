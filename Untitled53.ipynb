{
  "nbformat": 4,
  "nbformat_minor": 0,
  "metadata": {
    "colab": {
      "provenance": [],
      "authorship_tag": "ABX9TyNboeeVz3XJ9IgnyDaDarV3",
      "include_colab_link": true
    },
    "kernelspec": {
      "name": "python3",
      "display_name": "Python 3"
    },
    "language_info": {
      "name": "python"
    }
  },
  "cells": [
    {
      "cell_type": "markdown",
      "metadata": {
        "id": "view-in-github",
        "colab_type": "text"
      },
      "source": [
        "<a href=\"https://colab.research.google.com/github/manujism/CAPM-Model/blob/main/Untitled53.ipynb\" target=\"_parent\"><img src=\"https://colab.research.google.com/assets/colab-badge.svg\" alt=\"Open In Colab\"/></a>"
      ]
    },
    {
      "cell_type": "code",
      "execution_count": 1,
      "metadata": {
        "id": "VQNhBICcWhYR",
        "colab": {
          "base_uri": "https://localhost:8080/"
        },
        "outputId": "c10681a8-181c-4a9d-e585-6e7944319bca"
      },
      "outputs": [
        {
          "output_type": "stream",
          "name": "stdout",
          "text": [
            "YF.download() has changed argument auto_adjust default to True\n",
            "The Daily Expected Return of the Reliance Industries Stock as per CAPM Model is 0.058419%\n"
          ]
        }
      ],
      "source": [
        "import numpy as np\n",
        "import pandas as pd\n",
        "import yfinance as yf\n",
        "import warnings\n",
        "\n",
        "warnings.filterwarnings('ignore', category=FutureWarning)\n",
        "Tickers = ['^CRSLDX', 'RELIANCE.NS']\n",
        "data = yf.download(Tickers, start='2022-01-01', end='2024-12-31', progress=False)['Close']\n",
        "\n",
        "market_return = data['^CRSLDX'].pct_change()\n",
        "asset_return = data['RELIANCE.NS'].pct_change()\n",
        "\n",
        "avg_market_return = market_return.mean()\n",
        "avg_asset_return = asset_return.mean()\n",
        "risk_free_rate = 0.06288 / 252\n",
        "\n",
        "var_asset = asset_return.var()\n",
        "var_market = market_return.var()\n",
        "\n",
        "cov_matrix = pd.concat([asset_return, market_return], axis=1).cov()\n",
        "cov_AB = cov_matrix.loc['RELIANCE.NS', '^CRSLDX']\n",
        "\n",
        "beta = cov_AB / var_market\n",
        "\n",
        "daily_expected_return = (risk_free_rate + (beta * (avg_market_return - risk_free_rate))) * 100\n",
        "\n",
        "print(f\"The Daily Expected Return of the Reliance Industries Stock as per CAPM Model is {daily_expected_return :.6f}%\")\n"
      ]
    }
  ]
}